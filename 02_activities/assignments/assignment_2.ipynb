{
 "cells": [
  {
   "cell_type": "markdown",
   "metadata": {},
   "source": [
    "# Practice Interview\n",
    "\n",
    "## Objective\n",
    "\n",
    "_*The partner assignment aims to provide participants with the opportunity to practice coding in an interview context. You will analyze your partner's Assignment 1. Moreover, code reviews are common practice in a software development team. This assignment should give you a taste of the code review process.*_\n",
    "\n",
    "## Group Size\n",
    "\n",
    "Each group should have 2 people. You will be assigned a partner\n",
    "\n",
    "## Part 1:\n",
    "\n",
    "You and your partner must share each other's Assignment 1 submission."
   ]
  },
  {
   "cell_type": "markdown",
   "metadata": {},
   "source": [
    "\n",
    "## Part 2:\n",
    "\n",
    "Create a Jupyter Notebook, create 6 of the following headings, and complete the following for your partner's assignment 1:\n",
    "\n",
    "-   Paraphrase the problem in your own words.\n"
   ]
  },
  {
   "cell_type": "code",
   "execution_count": null,
   "metadata": {},
   "outputs": [],
   "source": [
    "# Your answer here\n",
    "'''\n",
    "It has been given the starting point of a binary tree, and the goal is to list every possible path that begins at the root \n",
    "and ends at a leaf node. Each path should be presented as a sequence of values, and the order of these paths in the \n",
    "output doesn't matter.\n",
    "\n",
    "Example 1:\n",
    "\n",
    "Input: The binary tree is represented as [1, 2, 2, 3, 5, 6, 7]\n",
    "Output: The resulting paths from the root to the leaves are: [[1, 2, 3], [1, 2, 5], [1, 2, 6], [1, 2, 7]]\n",
    "\n",
    "Example 2:\n",
    "\n",
    "Input: The binary tree is represented as [10, 9, 8, 7]\n",
    "Output: The resulting paths from the root to the leaves are: [[10, 7], [10, 9, 8]]\n",
    "'''"
   ]
  },
  {
   "cell_type": "markdown",
   "metadata": {},
   "source": [
    "\n",
    "-   Create 1 new example that demonstrates you understand the problem. Trace/walkthrough 1 example that your partner made and explain it.\n"
   ]
  },
  {
   "cell_type": "code",
   "execution_count": null,
   "metadata": {},
   "outputs": [],
   "source": [
    "# Your answer here\n",
    "'''\n",
    "New Example:\n",
    "\n",
    "root = TreeNode(5)\n",
    "root.left = TreeNode(3)\n",
    "root.right = TreeNode(8)\n",
    "root.left.left = TreeNode(1)\n",
    "root.left.right = TreeNode(4)\n",
    "root.right.right = TreeNode(9)\n",
    "\n",
    "print(bt_path(root))\n",
    "# Output: [[5, 3, 1], [5, 3, 4], [5, 8, 9]]\n",
    "\n",
    "For the first example my partner gave as below, please refer to the following Trace/Walkthrough,\n",
    "Input: root = [10, 9, 8, 7]\n",
    "\n",
    "- Start with the root node (10). Initialize current_path as an empty list and all_paths as an empty list.\n",
    "- The dfs function is called with the root node (10). Add 10 to current_path: [10].\n",
    "- Since node 10 has both left and right children, first to explore the left child (node 9).\n",
    "- The dfs function is called with node 9. Add 9 to current_path: [10, 9].\n",
    "- Node 9 doesn't have a left child but has a right child (node 8), so explore the right child.\n",
    "- The dfs function is called with node 8. Add 8 to current_path: [10, 9, 8].\n",
    "- Node 8 is a leaf node (no left or right children), so add [10, 9, 8] to all_paths.\n",
    "- Backtrack to node 9 and remove 8 from current_path: [10, 9].\n",
    "- Since there are no more children of node 9 to explore, backtrack to node 10 and remove 9 from current_path: [10].\n",
    "- Next, explore the right child of node 10 (node 7).\n",
    "- The dfs function is called with node 7. Add 7 to current_path: [10, 7].\n",
    "- Node 7 is a leaf node, so add [10, 7] to all_paths.\n",
    "- Backtrack to node 10 and remove 7 from current_path: [10].\n",
    "\n",
    "The final all_paths contains [[10, 9, 8], [10, 7]], which matches the expected output.\n",
    "'''"
   ]
  },
  {
   "cell_type": "markdown",
   "metadata": {},
   "source": [
    "\n",
    "-   Copy the solution your partner wrote. \n"
   ]
  },
  {
   "cell_type": "code",
   "execution_count": null,
   "metadata": {},
   "outputs": [],
   "source": [
    "# Your answer here\n",
    "\n",
    "class TreeNode(object):\n",
    "    def __init__(self, val = 0, left = None, right = None):\n",
    "        self.val = val\n",
    "        self.left = left\n",
    "        self.right = right\n",
    "def bt_path(root: TreeNode)-> List[List[int]]:\n",
    "    def dfs(node, current_path, all_paths):\n",
    "        if not node:\n",
    "            return\n",
    "\n",
    "        current_path.append(node.val)\n",
    "\n",
    "        if not node.left and not node.right:\n",
    "            all_paths.append(current_path[:])\n",
    "\n",
    "        else:\n",
    "            dfs(node.left, current_path, all_paths)\n",
    "            dfs(node.right, current_path, all_paths)\n",
    "\n",
    "        current_path.pop()\n",
    "\n",
    "    result = []\n",
    "    dfs(root, [], result)\n",
    "    return result\n",
    "\n",
    "    \n",
    "root = TreeNode(10)\n",
    "root.left = TreeNode(9)\n",
    "root.left.right = TreeNode(8)\n",
    "root.right = TreeNode(7)\n",
    "\n",
    "\n",
    "print(bt_path(root))\n",
    "[[10, 9, 8], [10, 7]]\n",
    "root = TreeNode(1)\n",
    "root.left = TreeNode(2)\n",
    "root.right = TreeNode(2)\n",
    "root.left.left = TreeNode(3)\n",
    "root.left.right = TreeNode(5)\n",
    "root.right.left = TreeNode(6)\n",
    "root.right.right = TreeNode(7)\n",
    "\n",
    "print(bt_path(root))\n",
    "[[1, 2, 3], [1, 2, 5], [1, 2, 6], [1, 2, 7]]"
   ]
  },
  {
   "cell_type": "markdown",
   "metadata": {},
   "source": [
    "\n",
    "-   Explain why their solution works in your own words.\n"
   ]
  },
  {
   "cell_type": "code",
   "execution_count": null,
   "metadata": {},
   "outputs": [],
   "source": [
    "# Your answer here\n",
    "'''\n",
    "The solution works because it uses a Depth-First Search (DFS) approach to explore all possible paths from the root\n",
    " to the leaf nodes in the binary tree. By maintaining a current path and appending it to the result list whenever a \n",
    "leaf node is reached, it ensures all paths are captured. The use of backtracking (removing the last node from the \n",
    "current path after exploring both children) allows the function to correctly explore different branches without \n",
    "interfering with previously found paths. This systematic exploration and backtracking guarantee that all root-to-leaf \n",
    "paths are found and stored correctly.\n",
    "'''"
   ]
  },
  {
   "cell_type": "markdown",
   "metadata": {},
   "source": [
    "\n",
    "-   Explain the problem’s time and space complexity in your own words.\n"
   ]
  },
  {
   "cell_type": "code",
   "execution_count": null,
   "metadata": {},
   "outputs": [],
   "source": [
    "# Your answer here\n",
    "'''\n",
    "Time Complexity:\n",
    "The time complexity of this problem is O(n), where n is the number of nodes in the binary tree. This is because the \n",
    "algorithm needs to visit each node exactly once to explore all possible paths from the root to the leaf nodes. During \n",
    "this traversal, it processes each node (appending to the current path, checking if it's a leaf, and then backtracking), \n",
    "leading to a linear time complexity relative to the number of nodes.\n",
    "\n",
    "\n",
    "Space Complexity:\n",
    "The space complexity is O(n⋅h), where n is the number of nodes and h is the height of the binary tree which includes:\n",
    "\n",
    "- Recursive Call Stack: The depth of the recursion is equal to the height of the tree, which is h. In the worst case \n",
    "(an unbalanced tree), the height h can be equal to n.\n",
    "\n",
    "- Current Path Storage: At any point, the current_path list can store up to h node values.\n",
    "\n",
    "- Result Storage: The result list stores all paths from the root to the leaves. In the worst case, there can be up to n/2 \n",
    "leaf nodes, each contributing a path of up to h length. Thus, the total storage needed for all paths can be up to O(n⋅h).\n",
    "\n",
    "So, the overall space complexity is O(n⋅h) due to the combination of the call stack and the storage of paths.\n",
    "'''\n"
   ]
  },
  {
   "cell_type": "markdown",
   "metadata": {},
   "source": [
    "\n",
    "-   Critique your partner's solution, including explanation, and if there is anything that should be adjusted.\n"
   ]
  },
  {
   "cell_type": "code",
   "execution_count": null,
   "metadata": {},
   "outputs": [],
   "source": [
    "# Your answer here\n",
    "'''\n",
    "The solution is simple and readable, leveraging DFS to find all root-to-leaf paths. The use of list operations ensures \n",
    "dynamic handling of path lengths. The function correctly handles the edge case where the tree is empty by returning \n",
    "an empty list. It has optimal time complexity of O(n) and space complexity is O(n⋅h) because of the call stack and \n",
    "storage of all paths, which is expected for this type of problem.\n",
    "\n",
    "Suggested Adjustments:\n",
    "- Adding more detailed comments can improve understanding, especially for those unfamiliar with the code.\n",
    "- Ensure type annotations are used consistently for better clarity and static analysis.\n",
    "'''\n"
   ]
  },
  {
   "cell_type": "markdown",
   "metadata": {},
   "source": [
    "\n",
    "## Part 3:\n",
    "\n",
    "Please write a 200 word reflection documenting your process from assignment 1, and your presentation and review experience with your partner at the bottom of the Jupyter Notebook under a new heading \"Reflection.\" Again, export this Notebook as pdf.\n"
   ]
  },
  {
   "cell_type": "markdown",
   "metadata": {},
   "source": [
    "### Reflection"
   ]
  },
  {
   "cell_type": "code",
   "execution_count": null,
   "metadata": {},
   "outputs": [],
   "source": [
    "# Your answer here\n",
    "'''\n",
    "The first assginment is to solve the problem of finding the closest duplicate in a binary tree began with understanding \n",
    "the need for a breadth-first search (BFS) due to its level-order traversal property. This approach ensures that duplicates \n",
    "encountered earlier in the traversal are closer to the root.\n",
    "\n",
    "I implemented the is_duplicate function by initializing a queue for BFS and a set to track seen values. As I processed \n",
    "each node, I checked if its value was already in the set. If it was, I updated the closest duplicate if the current one \n",
    "was nearer to the root. If not, I added the value to the set and continued with the BFS traversal by enqueuing child \n",
    "nodes.\n",
    "\n",
    "This method was chosen for its efficiency in both time and space, leveraging BFS and set operations to ensure the \n",
    "closest duplicate is found in an optimal manner. The solution effectively balanced these requirements while handling \n",
    "edge cases.\n",
    "\n",
    "In assignment 2 of reviewing my partner's solution for finding all root-to-leaf paths in a binary tree, I focused on \n",
    "understanding his DFS implementation and its effectiveness. The code was clear and followed a logical structure, \n",
    "using recursion to explore paths. I suggested improvements for readability, such as adding more detailed comments \n",
    "and ensuring consistent type annotations. The feedback aims for a refined solution that was both more robust and \n",
    "easier to understand. to enhance the clarity and efficiency of the solution and code.\n",
    "'''"
   ]
  },
  {
   "cell_type": "markdown",
   "metadata": {},
   "source": [
    "\n",
    "## Evaluation Criteria\n",
    "\n",
    "We are looking for the similar points as Assignment 1\n",
    "\n",
    "-   Problem is accurately stated\n",
    "\n",
    "-   New example is correct and easily understandable\n",
    "\n",
    "-   Correctness, time, and space complexity of the coding solution\n",
    "\n",
    "-   Clarity in explaining why the solution works, its time and space complexity\n",
    "\n",
    "-   Quality of critique of your partner's assignment, if necessary\n"
   ]
  },
  {
   "cell_type": "markdown",
   "metadata": {},
   "source": [
    "## Submission Information\n",
    "\n",
    "🚨 **Please review our [Assignment Submission Guide](https://github.com/UofT-DSI/onboarding/blob/main/onboarding_documents/submissions.md)** 🚨 for detailed instructions on how to format, branch, and submit your work. Following these guidelines is crucial for your submissions to be evaluated correctly.\n",
    "\n",
    "### Submission Parameters:\n",
    "* Submission Due Date: `HH:MM AM/PM - DD/MM/YYYY`\n",
    "* The branch name for your repo should be: `assignment-2`\n",
    "* What to submit for this assignment:\n",
    "    * This Jupyter Notebook (assignment_2.ipynb) should be populated and should be the only change in your pull request.\n",
    "* What the pull request link should look like for this assignment: `https://github.com/<your_github_username>/algorithms_and_data_structures/pull/<pr_id>`\n",
    "    * Open a private window in your browser. Copy and paste the link to your pull request into the address bar. Make sure you can see your pull request properly. This helps the technical facilitator and learning support staff review your submission easily.\n",
    "\n",
    "Checklist:\n",
    "- [ ] Created a branch with the correct naming convention.\n",
    "- [ ] Ensured that the repository is public.\n",
    "- [ ] Reviewed the PR description guidelines and adhered to them.\n",
    "- [ ] Verify that the link is accessible in a private browser window.\n",
    "\n",
    "If you encounter any difficulties or have questions, please don't hesitate to reach out to our team via our Slack at `#cohort-3-help`. Our Technical Facilitators and Learning Support staff are here to help you navigate any challenges.\n"
   ]
  }
 ],
 "metadata": {
  "kernelspec": {
   "display_name": "dsi_participant",
   "language": "python",
   "name": "python3"
  },
  "language_info": {
   "codemirror_mode": {
    "name": "ipython",
    "version": 3
   },
   "file_extension": ".py",
   "mimetype": "text/x-python",
   "name": "python",
   "nbconvert_exporter": "python",
   "pygments_lexer": "ipython3",
   "version": "3.9.15"
  }
 },
 "nbformat": 4,
 "nbformat_minor": 2
}
